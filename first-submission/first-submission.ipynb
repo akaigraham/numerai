{
 "cells": [
  {
   "cell_type": "markdown",
   "metadata": {},
   "source": [
    "## First Numerai Submission"
   ]
  },
  {
   "cell_type": "markdown",
   "metadata": {},
   "source": [
    "Following example script listed [here](https://github.com/numerai/example-scripts/blob/master/example_model.py)"
   ]
  },
  {
   "cell_type": "code",
   "execution_count": 1,
   "metadata": {},
   "outputs": [],
   "source": [
    "# import dependencies\n",
    "import pandas as pd\n",
    "from lightgbm import LGBMRegressor\n",
    "import gc\n",
    "import json\n",
    "from pathlib import Path\n",
    "from numerapi import NumerAPI"
   ]
  },
  {
   "cell_type": "markdown",
   "metadata": {},
   "source": [
    "## 1. Download Tournament Items and Data"
   ]
  },
  {
   "attachments": {},
   "cell_type": "markdown",
   "metadata": {},
   "source": [
    "### Setup API and Access Tokens"
   ]
  },
  {
   "cell_type": "code",
   "execution_count": 2,
   "metadata": {},
   "outputs": [],
   "source": [
    "# access api tokens\n",
    "with open('/Users/akg/.secret/numerai/numerai-keys.json', 'r') as f:\n",
    "    keys = json.load(f)\n",
    "    \n",
    "# pull out public and secret key\n",
    "pub_key = keys['public-key']\n",
    "secret = keys['secret-key']\n",
    "\n",
    "# setup api\n",
    "napi = NumerAPI(pub_key, secret)"
   ]
  },
  {
   "attachments": {},
   "cell_type": "markdown",
   "metadata": {},
   "source": [
    "### Details on Current Round"
   ]
  },
  {
   "cell_type": "code",
   "execution_count": 3,
   "metadata": {},
   "outputs": [
    {
     "name": "stdout",
     "output_type": "stream",
     "text": [
      "Current round: 411\n"
     ]
    }
   ],
   "source": [
    "# get current round details\n",
    "current_round = napi.get_current_round()\n",
    "print(f'Current round: {current_round}')"
   ]
  },
  {
   "cell_type": "code",
   "execution_count": 4,
   "metadata": {},
   "outputs": [],
   "source": [
    "# get current leaderboard\n",
    "leaderboard = napi.get_leaderboard()"
   ]
  },
  {
   "cell_type": "code",
   "execution_count": 5,
   "metadata": {},
   "outputs": [
    {
     "name": "stdout",
     "output_type": "stream",
     "text": [
      "New round has started within the last 12 hours!\n"
     ]
    }
   ],
   "source": [
    "# check if a new round has started\n",
    "if napi.check_new_round():\n",
    "    print('New round has started within the last 12 hours!')\n",
    "else: \n",
    "    print('No new round within last 12 hours')"
   ]
  },
  {
   "attachments": {},
   "cell_type": "markdown",
   "metadata": {},
   "source": [
    "### Download Data Files"
   ]
  },
  {
   "cell_type": "markdown",
   "metadata": {},
   "source": [
    "Tournament data changes every week so we specify the round in their name. Training and validation data only change periodically, so no need to download them every time."
   ]
  },
  {
   "cell_type": "code",
   "execution_count": 6,
   "metadata": {},
   "outputs": [
    {
     "name": "stdout",
     "output_type": "stream",
     "text": [
      "Downloading dataset files...\n"
     ]
    },
    {
     "name": "stderr",
     "output_type": "stream",
     "text": [
      "2023-02-01 13:51:06,665 INFO numerapi.utils: target file already exists\n",
      "2023-02-01 13:51:06,668 INFO numerapi.utils: resuming download\n",
      "/Users/akg/opt/anaconda3/envs/numerai/lib/python3.10/site-packages/urllib3/connectionpool.py:1043: InsecureRequestWarning: Unverified HTTPS request is being made to host 'numerai-datasets-us-west-2.s3.amazonaws.com'. Adding certificate verification is strongly advised. See: https://urllib3.readthedocs.io/en/1.26.x/advanced-usage.html#ssl-warnings\n",
      "  warnings.warn(\n",
      "v4.1/train.parquet: 1.45GB [00:53, 26.9MB/s]                            \n",
      "2023-02-01 13:52:02,015 INFO numerapi.utils: starting download\n",
      "v4.1/validation.parquet: 1.51GB [02:14, 11.2MB/s]                            \n",
      "2023-02-01 13:54:18,744 INFO numerapi.utils: starting download\n",
      "v4.1/live_411.parquet: 4.52MB [00:00, 6.15MB/s]                            \n",
      "2023-02-01 13:54:20,529 INFO numerapi.utils: starting download\n",
      "v4.1/validation_example_preds.parquet: 56.9MB [00:02, 21.6MB/s]                            \n",
      "2023-02-01 13:54:23,986 INFO numerapi.utils: starting download\n",
      "v4.1/features.json: 703kB [00:00, 1.46MB/s]                           \n",
      "2023-02-01 13:54:25,399 INFO numerapi.utils: starting download\n",
      "v4.1/live_example_preds.parquet: 131kB [00:00, 634kB/s]                            \n",
      "2023-02-01 13:54:26,483 INFO numerapi.utils: starting download\n",
      "v4.1/meta_model.parquet: 19.1MB [00:01, 10.9MB/s]                            \n"
     ]
    }
   ],
   "source": [
    "# download datasets to specific subfolder\n",
    "print('Downloading dataset files...')\n",
    "Path(\"./v4.1\").mkdir(parents=False, exist_ok=True)\n",
    "\n",
    "napi.download_dataset(\"v4.1/train.parquet\")\n",
    "napi.download_dataset(\"v4.1/validation.parquet\")\n",
    "napi.download_dataset(\"v4.1/live.parquet\", f\"v4.1/live_{current_round}.parquet\")\n",
    "napi.download_dataset(\"v4.1/validation_example_preds.parquet\")\n",
    "napi.download_dataset(\"v4.1/features.json\")\n",
    "\n",
    "napi.download_dataset(\"v4.1/live_example_preds.parquet\")\n",
    "napi.download_dataset(\"v4.1/meta_model.parquet\")"
   ]
  },
  {
   "cell_type": "markdown",
   "metadata": {},
   "source": [
    "## 2. Read Training Data"
   ]
  },
  {
   "attachments": {},
   "cell_type": "markdown",
   "metadata": {},
   "source": [
    "### Read Feature Metadata"
   ]
  },
  {
   "cell_type": "code",
   "execution_count": 7,
   "metadata": {},
   "outputs": [],
   "source": [
    "# read metadata from downloaded json\n",
    "with open('v4.1/features.json', 'r') as f: \n",
    "    feature_metadata = json.load(f)"
   ]
  },
  {
   "cell_type": "code",
   "execution_count": 8,
   "metadata": {},
   "outputs": [
    {
     "data": {
      "text/plain": [
       "dict_keys(['feature_stats', 'feature_sets', 'targets'])"
      ]
     },
     "execution_count": 8,
     "metadata": {},
     "output_type": "execute_result"
    }
   ],
   "source": [
    "# metadata keys\n",
    "feature_metadata.keys()"
   ]
  },
  {
   "cell_type": "code",
   "execution_count": 13,
   "metadata": {},
   "outputs": [
    {
     "data": {
      "text/plain": [
       "['target',\n",
       " 'target_nomi_v4_20',\n",
       " 'target_nomi_v4_60',\n",
       " 'target_tyler_v4_20',\n",
       " 'target_tyler_v4_60',\n",
       " 'target_victor_v4_20',\n",
       " 'target_victor_v4_60',\n",
       " 'target_ralph_v4_20',\n",
       " 'target_ralph_v4_60',\n",
       " 'target_waldo_v4_20',\n",
       " 'target_waldo_v4_60',\n",
       " 'target_jerome_v4_20',\n",
       " 'target_jerome_v4_60',\n",
       " 'target_janet_v4_20',\n",
       " 'target_janet_v4_60',\n",
       " 'target_ben_v4_20',\n",
       " 'target_ben_v4_60',\n",
       " 'target_alan_v4_20',\n",
       " 'target_alan_v4_60',\n",
       " 'target_paul_v4_20',\n",
       " 'target_paul_v4_60',\n",
       " 'target_george_v4_20',\n",
       " 'target_george_v4_60',\n",
       " 'target_william_v4_20',\n",
       " 'target_william_v4_60',\n",
       " 'target_arthur_v4_20',\n",
       " 'target_arthur_v4_60',\n",
       " 'target_thomas_v4_20',\n",
       " 'target_thomas_v4_60']"
      ]
     },
     "execution_count": 13,
     "metadata": {},
     "output_type": "execute_result"
    }
   ],
   "source": [
    "# display list of targets\n",
    "feature_metadata['targets']"
   ]
  },
  {
   "cell_type": "code",
   "execution_count": 4,
   "metadata": {},
   "outputs": [],
   "source": [
    "# all_features = list(feature_metadata[\"feature_stats\"].keys()) \n",
    "# small_feature_set = feature_metadata[\"feature_sets\"][\"small\"]\n",
    "# medium_feature_set = feature_metadata[\"feature_sets\"][\"medium\"]\n",
    "features = feature_metadata['feature_sets']['medium']\n",
    "\n",
    "# read in just those features along with era and target columns\n",
    "read_columns = features + ['era', 'data_type', 'target_nomi_v4_20']"
   ]
  },
  {
   "cell_type": "markdown",
   "metadata": {},
   "source": [
    "## 3. Read Data from Downloaded Parquet Files"
   ]
  },
  {
   "cell_type": "markdown",
   "metadata": {},
   "source": [
    "Sometimes when reading downloaded data, an error is raised about invalid magic parquet bytes. If this occurs, delete the file and rerun the napi.download_dataset to fix the corrupted file"
   ]
  },
  {
   "cell_type": "code",
   "execution_count": 7,
   "metadata": {},
   "outputs": [],
   "source": [
    "# read data from parquet files\n",
    "training_data = pd.read_parquet('v4.1/train.parquet', columns=read_columns)\n",
    "validation_data = pd.read_parquet('v4.1/validation.parquet', columns=read_columns)\n",
    "live_data = pd.read_parquet(f'v4.1/live_{current_round}.parquet', columns=read_columns)"
   ]
  },
  {
   "cell_type": "code",
   "execution_count": null,
   "metadata": {},
   "outputs": [],
   "source": []
  },
  {
   "cell_type": "code",
   "execution_count": 16,
   "metadata": {},
   "outputs": [
    {
     "name": "stdout",
     "output_type": "stream",
     "text": [
      "{'akg923': '112c86c7-3d27-4a8b-bba7-cb6be34c7f4d'}\n"
     ]
    }
   ],
   "source": [
    "# available models\n",
    "models = napi.get_models()\n",
    "print(models)"
   ]
  },
  {
   "cell_type": "code",
   "execution_count": null,
   "metadata": {},
   "outputs": [],
   "source": []
  },
  {
   "cell_type": "code",
   "execution_count": null,
   "metadata": {},
   "outputs": [],
   "source": []
  }
 ],
 "metadata": {
  "kernelspec": {
   "display_name": "Python 3 (ipykernel)",
   "language": "python",
   "name": "python3"
  },
  "language_info": {
   "codemirror_mode": {
    "name": "ipython",
    "version": 3
   },
   "file_extension": ".py",
   "mimetype": "text/x-python",
   "name": "python",
   "nbconvert_exporter": "python",
   "pygments_lexer": "ipython3",
   "version": "3.10.9"
  },
  "vscode": {
   "interpreter": {
    "hash": "d9be6e4378cb55d7ea1dc8a92c3545cc7e9a1a71d554232d2b8e279803a0bb6b"
   }
  }
 },
 "nbformat": 4,
 "nbformat_minor": 2
}
