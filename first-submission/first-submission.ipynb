{
 "cells": [
  {
   "cell_type": "markdown",
   "metadata": {},
   "source": [
    "## First Numerai Submission"
   ]
  },
  {
   "cell_type": "markdown",
   "metadata": {},
   "source": [
    "Following example script listed [here](https://github.com/numerai/example-scripts/blob/master/example_model.py)"
   ]
  },
  {
   "cell_type": "code",
   "execution_count": 1,
   "metadata": {},
   "outputs": [],
   "source": [
    "# import dependencies\n",
    "import pandas as pd\n",
    "from lightgbm import LGBMRegressor\n",
    "import gc\n",
    "import json\n",
    "from pathlib import Path\n",
    "\n",
    "from numerapi import NumerAPI"
   ]
  },
  {
   "cell_type": "markdown",
   "metadata": {},
   "source": [
    "## 1. Download Tournament Items and Data"
   ]
  },
  {
   "cell_type": "code",
   "execution_count": 2,
   "metadata": {},
   "outputs": [
    {
     "name": "stdout",
     "output_type": "stream",
     "text": [
      "Current round: 411\n"
     ]
    }
   ],
   "source": [
    "# setup api\n",
    "napi = NumerAPI()\n",
    "\n",
    "# get current round details\n",
    "current_round = napi.get_current_round()\n",
    "print(f'Current round: {current_round}')"
   ]
  },
  {
   "cell_type": "markdown",
   "metadata": {},
   "source": [
    "Tournament data changes every week so we specify the round in their name. Training and validation data only change periodically, so no need to download them every time."
   ]
  },
  {
   "cell_type": "code",
   "execution_count": 3,
   "metadata": {},
   "outputs": [
    {
     "name": "stdout",
     "output_type": "stream",
     "text": [
      "Downloading dataset files...\n"
     ]
    },
    {
     "name": "stderr",
     "output_type": "stream",
     "text": [
      "2023-02-01 13:07:30,441 INFO numerapi.utils: target file already exists\n",
      "2023-02-01 13:07:30,443 INFO numerapi.utils: download complete\n",
      "2023-02-01 13:07:31,402 INFO numerapi.utils: target file already exists\n",
      "2023-02-01 13:07:31,404 INFO numerapi.utils: download complete\n",
      "2023-02-01 13:07:32,315 INFO numerapi.utils: target file already exists\n",
      "2023-02-01 13:07:32,318 INFO numerapi.utils: download complete\n",
      "2023-02-01 13:07:33,209 INFO numerapi.utils: target file already exists\n",
      "2023-02-01 13:07:33,211 INFO numerapi.utils: download complete\n",
      "2023-02-01 13:07:34,044 INFO numerapi.utils: target file already exists\n",
      "2023-02-01 13:07:34,046 INFO numerapi.utils: download complete\n",
      "2023-02-01 13:07:34,879 INFO numerapi.utils: target file already exists\n",
      "2023-02-01 13:07:34,881 INFO numerapi.utils: download complete\n",
      "2023-02-01 13:07:35,731 INFO numerapi.utils: target file already exists\n",
      "2023-02-01 13:07:35,734 INFO numerapi.utils: download complete\n"
     ]
    }
   ],
   "source": [
    "# download datasets\n",
    "print('Downloading dataset files...')\n",
    "Path(\"./v4.1\").mkdir(parents=False, exist_ok=True)\n",
    "\n",
    "napi.download_dataset(\"v4.1/train.parquet\")\n",
    "napi.download_dataset(\"v4.1/validation.parquet\")\n",
    "napi.download_dataset(\"v4.1/live.parquet\", f\"v4.1/live_{current_round}.parquet\")\n",
    "napi.download_dataset(\"v4.1/validation_example_preds.parquet\")\n",
    "napi.download_dataset(\"v4.1/features.json\")\n",
    "\n",
    "napi.download_dataset(\"v4.1/live_example_preds.parquet\")\n",
    "napi.download_dataset(\"v4.1/meta_model.parquet\")"
   ]
  },
  {
   "cell_type": "markdown",
   "metadata": {},
   "source": [
    "## 2. Read Training Data"
   ]
  },
  {
   "cell_type": "code",
   "execution_count": 4,
   "metadata": {},
   "outputs": [],
   "source": [
    "# Reading minimal training data\n",
    "# read feature metadata, feature set, or all features\n",
    "with open('v4.1/features.json', 'r') as f: \n",
    "    feature_metadata = json.load(f)\n",
    "\n",
    "# all_features = list(feature_metadata[\"feature_stats\"].keys()) \n",
    "# small_feature_set = feature_metadata[\"feature_sets\"][\"small\"]\n",
    "# medium_feature_set = feature_metadata[\"feature_sets\"][\"medium\"]\n",
    "features = feature_metadata['feature_sets']['medium']\n",
    "\n",
    "# read in just those features along with era and target columns\n",
    "read_columns = features + ['era', 'data_type', 'target_nomi_v4_20']"
   ]
  },
  {
   "cell_type": "markdown",
   "metadata": {},
   "source": [
    "## 3. Read Data from Downloaded Parquet Files"
   ]
  },
  {
   "cell_type": "markdown",
   "metadata": {},
   "source": [
    "Sometimes when reading downloaded data, an error is raised about invalid magic parquet bytes. If this occurs, delete the file and rerun the napi.download_dataset to fix the corrupted file"
   ]
  },
  {
   "cell_type": "code",
   "execution_count": 7,
   "metadata": {},
   "outputs": [],
   "source": [
    "# read data from parquet files\n",
    "training_data = pd.read_parquet('v4.1/train.parquet', columns=read_columns)\n",
    "validation_data = pd.read_parquet('v4.1/validation.parquet', columns=read_columns)\n",
    "live_data = pd.read_parquet(f'v4.1/live_{current_round}.parquet', columns=read_columns)"
   ]
  },
  {
   "cell_type": "markdown",
   "metadata": {},
   "source": [
    "# 4. Get Per Era Correlations"
   ]
  },
  {
   "cell_type": "code",
   "execution_count": null,
   "metadata": {},
   "outputs": [],
   "source": []
  },
  {
   "cell_type": "code",
   "execution_count": null,
   "metadata": {},
   "outputs": [],
   "source": []
  },
  {
   "cell_type": "code",
   "execution_count": null,
   "metadata": {},
   "outputs": [],
   "source": []
  },
  {
   "cell_type": "code",
   "execution_count": null,
   "metadata": {},
   "outputs": [],
   "source": []
  }
 ],
 "metadata": {
  "kernelspec": {
   "display_name": "Python 3 (ipykernel)",
   "language": "python",
   "name": "python3"
  },
  "language_info": {
   "codemirror_mode": {
    "name": "ipython",
    "version": 3
   },
   "file_extension": ".py",
   "mimetype": "text/x-python",
   "name": "python",
   "nbconvert_exporter": "python",
   "pygments_lexer": "ipython3",
   "version": "3.10.9"
  },
  "vscode": {
   "interpreter": {
    "hash": "d9be6e4378cb55d7ea1dc8a92c3545cc7e9a1a71d554232d2b8e279803a0bb6b"
   }
  }
 },
 "nbformat": 4,
 "nbformat_minor": 2
}
